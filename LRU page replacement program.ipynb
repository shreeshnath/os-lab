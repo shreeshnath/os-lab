{
 "cells": [
  {
   "cell_type": "code",
   "execution_count": 2,
   "id": "c037f54b",
   "metadata": {},
   "outputs": [
    {
     "name": "stdout",
     "output_type": "stream",
     "text": [
      "6\n"
     ]
    }
   ],
   "source": [
    "def pageFaults(pages, n, capacity):\n",
    "\n",
    "\t# To represent set of current pages. We use\n",
    "\t# an unordered_set so that we quickly check\n",
    "\t# if a page is present in set or not\n",
    "\ts = set()\n",
    "\n",
    "\t# To store least recently used indexes\n",
    "\t# of pages.\n",
    "\tindexes = {}\n",
    "\n",
    "\t# Start from initial page\n",
    "\tpage_faults = 0\n",
    "\tfor i in range(n):\n",
    "\n",
    "\t\t# Check if the set can hold more pages\n",
    "\t\tif len(s) < capacity:\n",
    "\n",
    "\t\t\t# Insert it into set if not present\n",
    "\t\t\t# already which represents page fault\n",
    "\t\t\tif pages[i] not in s:\n",
    "\t\t\t\ts.add(pages[i])\n",
    "\n",
    "\t\t\t\t# increment page fault\n",
    "\t\t\t\tpage_faults += 1\n",
    "\n",
    "\t\t\t# Store the recently used index of\n",
    "\t\t\t# each page\n",
    "\t\t\tindexes[pages[i]] = i\n",
    "\n",
    "\t\t# If the set is full then need to perform lru\n",
    "\t\t# i.e. remove the least recently used page\n",
    "\t\t# and insert the current page\n",
    "\t\telse:\n",
    "\n",
    "\t\t\t# Check if current page is not already\n",
    "\t\t\t# present in the set\n",
    "\t\t\tif pages[i] not in s:\n",
    "\n",
    "\t\t\t\t# Find the least recently used pages\n",
    "\t\t\t\t# that is present in the set\n",
    "\t\t\t\tlru = float('inf')\n",
    "\t\t\t\tfor page in s:\n",
    "\t\t\t\t\tif indexes[page] < lru:\n",
    "\t\t\t\t\t\tlru = indexes[page]\n",
    "\t\t\t\t\t\tval = page\n",
    "\n",
    "\t\t\t\t# Remove the indexes page\n",
    "\t\t\t\ts.remove(val)\n",
    "\n",
    "\t\t\t\t# insert the current page\n",
    "\t\t\t\ts.add(pages[i])\n",
    "\n",
    "\t\t\t\t# increment page fault\n",
    "\t\t\t\tpage_faults += 1\n",
    "\n",
    "\t\t\t# Update the current page index\n",
    "\t\t\tindexes[pages[i]] = i\n",
    "\n",
    "\treturn page_faults\n",
    "\n",
    "\n",
    "# Driver code\n",
    "pages = [7, 0, 1, 2, 0, 3, 0, 4, 2, 3, 0, 3, 2]\n",
    "n = len(pages)\n",
    "capacity = 4 \n",
    "print(pageFaults(pages, n, capacity))"
   ]
  },
  {
   "cell_type": "code",
   "execution_count": null,
   "id": "88cafd26",
   "metadata": {},
   "outputs": [],
   "source": []
  }
 ],
 "metadata": {
  "celltoolbar": "Tags",
  "kernelspec": {
   "display_name": "Python 3 (ipykernel)",
   "language": "python",
   "name": "python3"
  },
  "language_info": {
   "codemirror_mode": {
    "name": "ipython",
    "version": 3
   },
   "file_extension": ".py",
   "mimetype": "text/x-python",
   "name": "python",
   "nbconvert_exporter": "python",
   "pygments_lexer": "ipython3",
   "version": "3.9.13"
  }
 },
 "nbformat": 4,
 "nbformat_minor": 5
}
